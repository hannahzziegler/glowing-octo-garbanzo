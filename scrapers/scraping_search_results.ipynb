{
 "cells": [
  {
   "cell_type": "code",
   "execution_count": 1,
   "id": "cb62001e",
   "metadata": {},
   "outputs": [],
   "source": [
    "import csv\n",
    "import datetime\n",
    "import requests\n",
    "from bs4 import BeautifulSoup\n",
    "import itertools\n",
    "import pandas as pd"
   ]
  },
  {
   "cell_type": "code",
   "execution_count": 2,
   "id": "4b58c920",
   "metadata": {},
   "outputs": [
    {
     "name": "stdout",
     "output_type": "stream",
     "text": [
      "[[], ['Chris Aadland', 'Natural Resources, Department of', 'Power Plant Assessment Division B-3', '(410)260-8736'], ['Christopher Aadland', 'Natural Resources, Department of', 'Habitat Restoration', '(410)260-8736'], ['David Aalders', 'Public Safety & Correctional Services, Department of', 'Eastern Correctional Institution', '(410)845-4000\\xa0Ext.\\xa04415'], ['Bizhan Aarabi', 'University of Maryland, Baltimore', 'School of Medicine', '(410)328-7371'], ['Joy Aaron', 'Maryland Department of Health', 'Maryland Board of Physical Therapy Examiners', '(410)764-4716'], ['Mark C. Aaron', 'University of Maryland, Baltimore', 'School of Nursing', 'No Listing'], ['Clayton Anthony Aarons', 'Judiciary of Maryland', 'District #5  - Prince George`s County (Upper Marlboro)', '(301)070/4060'], ['Sean R. Abad', 'University of Maryland, Baltimore', 'Office of Development and Alumni Relations', '(410)706-8494'], ['Eli Abada', 'Maryland Department of Health', 'Program Analysis & MCOs', '(410)767-1392'], ['Adam Abadir', 'Comptroller of Maryland', 'Deputy Comptroller for Public Engagement & Communication', '(410)260-7305'], ['Janice N. Abarro', 'University of Maryland, Baltimore', 'School of Medicine', '(410)706-0856'], ['Hummira H. Abawi', 'University of Maryland, Baltimore', 'School of Medicine', 'No Listing'], ['Omar Abbas', 'University of Maryland, Baltimore', 'Office of Administration and Finance', 'No Listing'], ['Soliu A. Abbas', 'University of Maryland, Baltimore', 'School of Medicine', 'No Listing'], ['Christie  Abbott', 'Maryland Department of Health', 'Somerset County', '(443)523-1711']]\n"
     ]
    }
   ],
   "source": [
    "table_data = []\n",
    "url = \"https://www.doit.state.md.us/phonebook/indlisting.asp\"\n",
    "response = requests.get(url, headers={'User-Agent': 'Mozilla/5.0'})\n",
    "html = response.content\n",
    "soup = BeautifulSoup(html, features=\"html.parser\")\n",
    "table = soup.find('table')\n",
    "rows = table.find_all('tr')\n",
    "\n",
    "for row in rows:\n",
    "    cells = row.find_all(\"td\")\n",
    "    row_data = []\n",
    "    for cell in cells:\n",
    "        row_data.append(cell.text.strip())\n",
    "    table_data.append(row_data)\n",
    "\n",
    "# a list of lists for all of the rows on the first page of the table\n",
    "print(table_data)"
   ]
  },
  {
   "cell_type": "code",
   "execution_count": null,
   "id": "8e3e5572",
   "metadata": {},
   "outputs": [],
   "source": [
    "page = 0\n",
    "table_data = []\n",
    "while page != 15:\n",
    "    url = f\"https://www.doit.state.md.us/phonebook/indlisting.asp?page={page}\"\n",
    "    page = page + 1\n",
    "    response = requests.get(url)\n",
    "    html = response.content\n",
    "    soup = BeautifulSoup(html, features=\"html.parser\")\n",
    "    table = soup.find('table')\n",
    "    rows = table.find_all('tr')\n",
    "    for row in rows:\n",
    "        cells = row.find_all(\"td\")\n",
    "        row_data = []\n",
    "        for cell in cells:\n",
    "            row_data.append(cell.text.strip())\n",
    "            table_data.append(row_data)\n",
    "    page = page + 15\n",
    "print(table_data)"
   ]
  },
  {
   "cell_type": "code",
   "execution_count": null,
   "id": "6e522952",
   "metadata": {},
   "outputs": [],
   "source": [
    "page = 0\n",
    "table_data = []\n",
    "while page != 870:\n",
    "    url = f\"https://www.doit.state.md.us/phonebook/indlisting.asp?page={page}\"\n",
    "    response = requests.get(url)\n",
    "    html = response.content\n",
    "    soup = BeautifulSoup(html, features=\"html.parser\")\n",
    "    table = soup.find('table')\n",
    "    rows = table.find_all('tr')\n",
    "    for row in rows:\n",
    "        cells = row.find_all(\"td\")\n",
    "        row_data = []\n",
    "        for cell in cells:\n",
    "            row_data.append(cell.text.strip())\n",
    "            table_data.append(row_data)\n",
    "    page = page + 15\n",
    "print(table_data)"
   ]
  },
  {
   "cell_type": "code",
   "execution_count": null,
   "id": "cb256f11",
   "metadata": {},
   "outputs": [],
   "source": [
    "page = 0\n",
    "table_data = []\n",
    "while page != 870:\n",
    "    url = f\"https://www.doit.state.md.us/phonebook/indlisting.asp?page={page}\"\n",
    "    response = requests.get(url)\n",
    "    html = response.content\n",
    "    soup = BeautifulSoup(html, features=\"html.parser\")\n",
    "    table = soup.find('table')\n",
    "    rows = table.find_all('tr')\n",
    "    for row in rows:\n",
    "        cells = row.find_all(\"td\")\n",
    "        row_data = []\n",
    "        for cell in cells:\n",
    "            row_data.append(cell.text.strip())\n",
    "            table_data.append(row_data)\n",
    "    page = page + 15\n",
    "    print(table_data)"
   ]
  },
  {
   "cell_type": "code",
   "execution_count": null,
   "id": "5db33863",
   "metadata": {},
   "outputs": [],
   "source": []
  }
 ],
 "metadata": {
  "kernelspec": {
   "display_name": "Python 3 (ipykernel)",
   "language": "python",
   "name": "python3"
  },
  "language_info": {
   "codemirror_mode": {
    "name": "ipython",
    "version": 3
   },
   "file_extension": ".py",
   "mimetype": "text/x-python",
   "name": "python",
   "nbconvert_exporter": "python",
   "pygments_lexer": "ipython3",
   "version": "3.10.6"
  }
 },
 "nbformat": 4,
 "nbformat_minor": 5
}
