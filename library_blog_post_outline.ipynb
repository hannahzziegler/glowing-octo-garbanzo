{
 "cells": [
  {
   "cell_type": "markdown",
   "id": "be0cca82",
   "metadata": {},
   "source": [
    "### ChatGPT-assisted scraping: Creating a bot to pull data from Maryland employees database\n",
    "\n",
    "Outline:\n",
    "\n",
    "<b>How ChatGPT should and shouldn't be used to help write code in this context</b>\n",
    "   - Mitigating the urge to make it rewrite code and solve all of your problems at the slightest inconvenience\n",
    "\n",
    "<b>Main code issues we encountered and turned to ChatGPT for help with:</b>\n",
    "\n",
    "<em>Mock up of scraping template with BeautifulSoup to work off of</em>\n",
    "   - Screenshot of query\n",
    "   - Starting code template and then ending code we used for first-round scrape (if applicable)\n",
    "\n",
    "<em>Iterating through each page within a single letter of the alphabatized directory, then moving onto the next letter</em>\n",
    "   - ChatGPT did not understand how to do this\n",
    "   - Distinction between iterating based on HTML tags and iterating based on patterns within the URL of a page could *not* be ironed out on the AI side\n",
    "   - Screenshot of code snippets ChatGPT provided and I tried to adapt to my data\n",
    "   - Learning about the 1000 different ways to access the alphabet in Python and somehow none of them working still?\n",
    "\n",
    "<em>Lowering expectations for what ChatGPT can actually help troubleshoot, as iteration patterns seemed to complex for me to explain to it</em>\n",
    "   - Structuring messages for ChatGPT and making it understand the data's caveats\n",
    "   - \"Okay, gotcha, now adjust that code to try this\" statements are your friend\n",
    "   - Screenshots and codeblocks of what ChatGPT originally gave me, what I told it and how it did or did not adjust its advice to assist me\n",
    "   \n",
    "<em>Python clarifications</em>\n",
    "   - I feel confident in Python, but having basically an open dictionary = very helpful\n",
    "   - Quick hit things to remember like iterating over CSVs & finding differences between each one (once we gave up on pulling every single data point) -- include screenshots of messages it gave back, where these tips can be found in my final code for the project\n",
    "   - How to phrase things most efficiently so ChatGPT can parse them out and return concise answers, rather than its usual 500 word mess.\n",
    "\n",
    "<b>Debugging with ChatGPT:</b>\n",
    "   - Example of feeding it error messages to help with (screenshot of query and errors witin the actual code, if we can find them)\n",
    "   - \"What does this line mean?\" examples to talk through -- even from original Beautiful Soup Template\n",
    "   - Hardest part: trying to get it to understand the presence of absence of certain HTML tags and use the method for troubleshoot I had deemed most reliable (i.e. it kept telling me to look for tags based on what it knows about scraping and it was difficult to override to make it help me with scraping based on URLs)\n",
    "   - Debugging the scraper run error messages from GitHub Actions in ChatGPT (very helpful!)\n",
    "   "
   ]
  },
  {
   "cell_type": "code",
   "execution_count": null,
   "id": "a5c6e48c",
   "metadata": {},
   "outputs": [],
   "source": []
  },
  {
   "cell_type": "code",
   "execution_count": null,
   "id": "94a9e278",
   "metadata": {},
   "outputs": [],
   "source": []
  }
 ],
 "metadata": {
  "kernelspec": {
   "display_name": "Python 3 (ipykernel)",
   "language": "python",
   "name": "python3"
  },
  "language_info": {
   "codemirror_mode": {
    "name": "ipython",
    "version": 3
   },
   "file_extension": ".py",
   "mimetype": "text/x-python",
   "name": "python",
   "nbconvert_exporter": "python",
   "pygments_lexer": "ipython3",
   "version": "3.10.6"
  }
 },
 "nbformat": 4,
 "nbformat_minor": 5
}
